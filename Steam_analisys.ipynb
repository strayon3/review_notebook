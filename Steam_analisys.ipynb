{
 "cells": [
  {
   "cell_type": "code",
   "execution_count": 1,
   "metadata": {},
   "outputs": [],
   "source": [
    "#libs needed for processing data \n",
    "import pandas as pd \n",
    "import plotly.express as px\n",
    "import re \n",
    "from techissuelist import techissues\n",
    "from largedatasetreader import parallel_read_csv"
   ]
  },
  {
   "cell_type": "code",
   "execution_count": 2,
   "metadata": {},
   "outputs": [],
   "source": [
    "'''We are going to be looking at steam game reviews and processing the data '''\n",
    "#gloabal var storage here \n",
    "title_counter = 0\n",
    "game_titles = []\n"
   ]
  },
  {
   "cell_type": "code",
   "execution_count": 3,
   "metadata": {},
   "outputs": [
    {
     "name": "stdout",
     "output_type": "stream",
     "text": [
      "Loaded Dataframe with 9618687 rows\n",
      "shape: (5, 3)\n",
      "┌──────────────────────────┬──────────┬─────────────────────────────────┐\n",
      "│ app_name                 ┆ language ┆ review                          │\n",
      "│ ---                      ┆ ---      ┆ ---                             │\n",
      "│ str                      ┆ str      ┆ str                             │\n",
      "╞══════════════════════════╪══════════╪═════════════════════════════════╡\n",
      "│ The Witcher 3: Wild Hunt ┆ english  ┆ One of the best RPG's of all t… │\n",
      "│ The Witcher 3: Wild Hunt ┆ english  ┆ good story, good graphics. lot… │\n",
      "│ The Witcher 3: Wild Hunt ┆ english  ┆ dis gud,                        │\n",
      "│ The Witcher 3: Wild Hunt ┆ english  ┆ favorite game of all time cant… │\n",
      "│ The Witcher 3: Wild Hunt ┆ english  ┆ Why wouldn't you get this       │\n",
      "└──────────────────────────┴──────────┴─────────────────────────────────┘\n"
     ]
    }
   ],
   "source": [
    "if __name__ == '__main__':\n",
    "    file_path = \"./steam_reviews.csv\"\n",
    "    dataframe = parallel_read_csv(file_path)\n",
    "\n",
    "    #Validate the result\n",
    "    print(f\"Loaded Dataframe with {len(dataframe)} rows\")\n",
    "    print(dataframe.head())\n",
    "\n"
   ]
  },
  {
   "cell_type": "code",
   "execution_count": 4,
   "metadata": {},
   "outputs": [],
   "source": [
    "#sort and creat a catagory for each game \n",
    "for i in dataframe[\"app_name\"]:\n",
    "    if i not in game_titles:\n",
    "        game_titles.append(i)\n"
   ]
  },
  {
   "cell_type": "code",
   "execution_count": 5,
   "metadata": {},
   "outputs": [],
   "source": [
    "#look reviews and determin sentiments \n",
    "good_keywords = \"c:/Users/stray/Desktop/portfolioDatasets/datasets/wordlists/positive words.csv\"\n",
    "bad_keywords = \"c:/Users/stray/Desktop/portfolioDatasets/datasets/wordlists/archive/negative-words.txt\"\n",
    "#define bad keyword lists\n",
    "game_sentiment = {}"
   ]
  },
  {
   "cell_type": "code",
   "execution_count": null,
   "metadata": {},
   "outputs": [],
   "source": [
    "def analyze_review(review):\n",
    "        words = re.findall(r'\\b\\w+\\b', review.lower()) #Covert to lowercase for case-insensitive matching \n",
    "        good_score = sum(1 for word in good_keywords if word in words)\n",
    "        bad_score = sum(1 for word in bad_keywords if word in words)\n",
    "        return good_score, bad_score\n",
    "\n",
    "    #check for good and bad section\n",
    "for row in dataframe.iter_rows(named=True):\n",
    "        gameT = row[\"app_name\"]\n",
    "        review = row[\"review\"]\n",
    "        good_score,bad_score = analyze_review(review)\n",
    "\n",
    "        if gameT not in game_sentiment:\n",
    "            game_sentiment[gameT] = {\"Good\": 0, \"Bad\": 0}\n",
    "\n",
    "#increment the count based on good or bad \n",
    "        if good_score > bad_score:\n",
    "            game_sentiment[gameT][\"Good\"] += 1\n",
    "        elif bad_score > good_score:\n",
    "            game_sentiment[gameT][\"Bad\"] += 1\n",
    "        elif good_score == 0 and bad_score == 0:\n",
    "        #Neutral review skip increment\n",
    "            continue\n",
    "        else:\n",
    "            game_sentiment[gameT][\"Bad\"] += 1\n",
    "            game_sentiment[gameT][\"Good\"] += 1\n",
    "\n",
    "#display each game and their review sentiment count \n",
    "for game,sentiments in game_sentiment.items():\n",
    "        print(f\"\\n{game}: {sentiments}\\n\")\n"
   ]
  },
  {
   "cell_type": "code",
   "execution_count": null,
   "metadata": {},
   "outputs": [],
   "source": []
  }
 ],
 "metadata": {
  "kernelspec": {
   "display_name": "Python 3",
   "language": "python",
   "name": "python3"
  },
  "language_info": {
   "codemirror_mode": {
    "name": "ipython",
    "version": 3
   },
   "file_extension": ".py",
   "mimetype": "text/x-python",
   "name": "python",
   "nbconvert_exporter": "python",
   "pygments_lexer": "ipython3",
   "version": "3.13.0"
  }
 },
 "nbformat": 4,
 "nbformat_minor": 2
}
